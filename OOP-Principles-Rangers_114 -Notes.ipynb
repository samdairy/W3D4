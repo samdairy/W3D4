{
 "cells": [
  {
   "cell_type": "markdown",
   "metadata": {},
   "source": [
    " <h1 align = center> Principles of Object Oriented Programming </h1>"
   ]
  },
  {
   "cell_type": "markdown",
   "metadata": {},
   "source": [
    "#### 4 principles\n",
    "- Encapsulation\n",
    "- Abstraction\n",
    "- Inheritance\n",
    "- Polymorphism\n"
   ]
  },
  {
   "cell_type": "markdown",
   "metadata": {},
   "source": [
    "## 1 ENCAPSULATION"
   ]
  },
  {
   "cell_type": "markdown",
   "metadata": {},
   "source": [
    "In encapsulation, the variables of a class can be made hidden from other classes, and can be accessed only through the methods of their current class. Therefore, it is also known as data hiding.\n",
    "<br><br>\n",
    "Encapsulation can be described as a protective barrier that prevents the code and data being randomly accessed by other code defined outside the class. Access to the data and code is tightly controlled by a class."
   ]
  },
  {
   "cell_type": "code",
   "execution_count": null,
   "metadata": {},
   "outputs": [],
   "source": [
    "from datetime import timedelta, date\n",
    "from IPython.display import Image\n",
    "import requests\n",
    "from time import sleep\n",
    "\n",
    "generic_image = 'codeflix.png'\n",
    "\n",
    "class Video():\n",
    "    def__init__(self):\n",
    "        self.title = None\n",
    "        self.length = timedelta()\n",
    "        self.link = generic_image\n",
    "        \n",
    "    def play(self):\n",
    "        print(f\"Now playing {self.title}\")\n",
    "        display(Image(self.limk))\n",
    "        \n",
    "    def__rep--(self):\n",
    "        return f\"{self.title} is {self.length.seconds} seconds long.\"\n",
    "    \n"
   ]
  },
  {
   "cell_type": "code",
   "execution_count": null,
   "metadata": {},
   "outputs": [],
   "source": [
    "from datetime import timedelta, date\n",
    "from IPython.display import Image\n",
    "import requests\n",
    "from time import sleep\n",
    "\n",
    "generic_image = 'codeflix.png'\n",
    "\n",
    "class Video():\n",
    "    def __init__(self):\n",
    "        self.title = None\n",
    "        self.length = timedelta()\n",
    "        self.link = generic_image\n",
    "        \n",
    "    def play(self):\n",
    "        print(f\"Now playiong {self.title}\")\n",
    "        display(Image(self.link))\n",
    "        \n",
    "    def __repr__(self):\n",
    "        return f\"{self.title} is {self.length.seconds} seconds long.\""
   ]
  },
  {
   "cell_type": "markdown",
   "metadata": {},
   "source": [
    "## 2 ABSTRACTION"
   ]
  },
  {
   "cell_type": "markdown",
   "metadata": {},
   "source": [
    "Abstraction is a process of hiding the implementation details from the user, only the functionality will be provided to the user. We have a bit to do before this becomes visible. But you've seen it before with presenting the user with the option to enter inputs. We then take those input and do something with them.\n",
    "<br><br>\n"
   ]
  },
  {
   "cell_type": "code",
   "execution_count": 3,
   "metadata": {},
   "outputs": [
    {
     "ename": "IndentationError",
     "evalue": "expected an indented block after 'if' statement on line 19 (3216708715.py, line 20)",
     "output_type": "error",
     "traceback": [
      "\u001b[0;36m  Cell \u001b[0;32mIn[3], line 20\u001b[0;36m\u001b[0m\n\u001b[0;31m    self.link = data['image']['medium']\u001b[0m\n\u001b[0m    ^\u001b[0m\n\u001b[0;31mIndentationError\u001b[0m\u001b[0;31m:\u001b[0m expected an indented block after 'if' statement on line 19\n"
     ]
    }
   ],
   "source": [
    "class Episode(Video):\n",
    "    def __init__(self, data):\n",
    "        Video.__init__(self)\n",
    "        self.number = data['number']\n",
    "        self.season = data['season']\n",
    "        self.date_aired = data['airdate']\n",
    "        self.summary = data['summary']\n",
    "        self.rating = data['rating']['average']\n",
    "        self.title = data['name']\n",
    "        if data['runtime']:\n",
    "            self.length = timedelta(minutes=data['runtime'])\n",
    "        else:\n",
    "            self.length = timedelta(minutes=30)\n",
    "        self.length = timedelta(minutes = data['runtime'])\n",
    "        if data['image']:\n",
    "            self.link = data['image']['medium']\n",
    "        else:\n",
    "            self.link = generic_image\n",
    "            \n",
    "  "
   ]
  },
  {
   "cell_type": "markdown",
   "metadata": {},
   "source": [
    "## 3 INHERITANCE"
   ]
  },
  {
   "cell_type": "markdown",
   "metadata": {},
   "source": [
    "Inheritance can be defined as the process where one class acquires the properties (methods and fields) of another.\n",
    "<br>\n",
    "<i>(see above)</i>"
   ]
  },
  {
   "cell_type": "code",
   "execution_count": null,
   "metadata": {},
   "outputs": [],
   "source": [
    "class Series():\n",
    "    def __init__(self):\n",
    "        self.id = None\n",
    "        self.network = None\n",
    "        self.seasons = None\n",
    "        self.summary = None\n",
    "        self.title = None\n",
    "        self.genres = []\n",
    "        self.episodes = []\n",
    "        \n",
    "        \n",
    "    def get_info(self, query=''):\n",
    "        data = None #<-- in case we cant find the show we're looking for\n",
    "        while not data:\n",
    "            if not query:\n",
    "                query = input(\"What is the name of the series? \")\n",
    "                r = requests.get(f'https://api.tvmaze.com/singlesearch/shows?q={query}')\n",
    "                if r.status_code == 200:\n",
    "                    data = r.json()\n",
    "#                    print(data)\n",
    "                 else: \n",
    "                    print(f\"Series error: status code {r.status_code}\")\n",
    "                    query = \"\"\n",
    "            else:\n",
    "                r = requests.get(f'https://api.tvmaze.com/singlesearch/shows?q={query}')\n",
    "                if r.status_code == 200:\n",
    "                    data = r.json()\n",
    "                else:\n",
    "                    print(f\"Series Error: status code {r.status_code}\")\n",
    "                    \n",
    "        #Use data to build out our attributes\n",
    "        self.id = data['id']\n",
    "        self.title = data['name']\n",
    "        self.genres = [genre for genre in data['genres']]\n",
    "        if data['network']:\n",
    "            self.network = data['network']['name']\n",
    "        else:\n",
    "            self.network = data['webChannel']['name']\n",
    "            \n",
    "            \n",
    "        # Api call for episodes\n",
    "        r = requests.get(f'https://api.tvmaze.com/shows/{self.id}/episodes')\n",
    "        if r.status_code == 200:\n",
    "            episodes = r.json()\n",
    "        else:\n",
    "            print(f\"Episode Error: Status Code {r.status_code}\")\n",
    "            \n",
    "        #^ setting attributes from show api call\n",
    "        #---------------------------------------\n",
    "        #v setting attributes from the episode api call\n",
    "        self.seasons = episodes[-1]['season']\n",
    "        self.episodes = [Episode(ep) for ep in episodes]\n",
    "        print(f\"{self.title} has {len(self.episodes)} episodes\")\n",
    "    def watch(self):\n",
    "        for i in range(len(self.episodes)):\n",
    "            if i > 0 and i % 3 == 0:\n",
    "                watching = input(\"Are you still watching? also get a job y/n\")\n",
    "                if watching not in ('yes', 'y', 'yeah', 'ye', 'affirmative', 'aye aye captain'):\n",
    "                    break\n",
    "            self.episodes[i].play()\n",
    "            sleep(self.episodes[i].length.seconds/1000)\n",
    "    \n",
    "    def __len__(self):\n",
    "        return len(self.episodes)\n",
    "    \n",
    "    def __repr__(self):\n",
    "        return f\"Title: {self.title}\"\n",
    "        \n",
    "            \n",
    "            \n",
    "            \n",
    "            \n",
    "            \n",
    "            \n",
    "            \n",
    "            \n",
    "            "
   ]
  },
  {
   "cell_type": "code",
   "execution_count": 1,
   "metadata": {},
   "outputs": [
    {
     "ename": "NameError",
     "evalue": "name 'series' is not defined",
     "output_type": "error",
     "traceback": [
      "\u001b[0;31m---------------------------------------------------------------------------\u001b[0m",
      "\u001b[0;31mNameError\u001b[0m                                 Traceback (most recent call last)",
      "Cell \u001b[0;32mIn[1], line 1\u001b[0m\n\u001b[0;32m----> 1\u001b[0m first_show \u001b[38;5;241m=\u001b[39m \u001b[43mseries\u001b[49m\n\u001b[1;32m      3\u001b[0m first_show\u001b[38;5;241m.\u001b[39mget_info()\n",
      "\u001b[0;31mNameError\u001b[0m: name 'series' is not defined"
     ]
    }
   ],
   "source": [
    "first_show = series\n",
    "\n",
    "first_show.get_info()"
   ]
  },
  {
   "cell_type": "markdown",
   "metadata": {},
   "source": [
    "## 4 POLYMORPHISM"
   ]
  },
  {
   "cell_type": "markdown",
   "metadata": {},
   "source": [
    "In object-oriented programming, polymorphism (from the Greek meaning “having multiple forms”) is the characteristic of being able to assign a different meaning or usage to something in different contexts — specifically, to allow an entity such as a function, or an object to have more than one form.\n",
    "<br><br>\n"
   ]
  },
  {
   "cell_type": "code",
   "execution_count": 4,
   "metadata": {},
   "outputs": [],
   "source": [
    "class User:\n",
    "    id_counter = 1\n",
    "    def __init__(self, username, password):\n",
    "        self.username = username\n",
    "        self.password = password[::-2]\n",
    "        self.id = User.id_counter\n",
    "        User.id_counter += 1\n",
    "        self.watch_list = []\n",
    "        \n",
    "    def __str__(self):\n",
    "        formatted_user = f\"\"\"\n",
    "        {self.id} - {self.username.title()}\n",
    "        pw: {self.password}      \n",
    "        \"\"\"\n",
    "        return formatted_user\n",
    "    \n",
    "    def __repr__(self):\n",
    "        return f\"<User {self.id} | {self.username}>\"\n",
    "    \n",
    "    def check_password(self, password_guess):\n",
    "        return self.password == password_guess[::-2]\n",
    "    \n",
    "      "
   ]
  },
  {
   "cell_type": "code",
   "execution_count": null,
   "metadata": {},
   "outputs": [],
   "source": [
    "\n",
    "\n"
   ]
  },
  {
   "cell_type": "code",
   "execution_count": null,
   "metadata": {},
   "outputs": [],
   "source": [
    " from datetime import timedelta, date\n",
    "from IPython.display import Image\n",
    "import requests\n",
    "from time import sleep\n",
    "\n",
    "generic_image = 'codeflix.png'\n",
    "\n",
    "class theater():\n",
    "    def__init__(self):\n",
    "        self.users = set()\n",
    "        self.current_user = None\n",
    "        \n",
    "    #add a user \n",
    "    def add_user(self):\n",
    "        username = input(\"\")\n",
    "                               "
   ]
  },
  {
   "cell_type": "code",
   "execution_count": null,
   "metadata": {},
   "outputs": [],
   "source": []
  },
  {
   "cell_type": "code",
   "execution_count": null,
   "metadata": {},
   "outputs": [],
   "source": []
  },
  {
   "cell_type": "markdown",
   "metadata": {},
   "source": [
    "##  Exercise 1:\n",
    "Discuss what other classes, methods, or fields (attributes) we could make to improve our streaming service using these principles. <br> <br>\n",
    "Start making a few of them and see where it leads..."
   ]
  },
  {
   "cell_type": "code",
   "execution_count": null,
   "metadata": {},
   "outputs": [],
   "source": []
  }
 ],
 "metadata": {
  "kernelspec": {
   "display_name": "Python 3",
   "language": "python",
   "name": "python3"
  },
  "language_info": {
   "codemirror_mode": {
    "name": "ipython",
    "version": 3
   },
   "file_extension": ".py",
   "mimetype": "text/x-python",
   "name": "python",
   "nbconvert_exporter": "python",
   "pygments_lexer": "ipython3",
   "version": "3.11.2"
  },
  "vscode": {
   "interpreter": {
    "hash": "aee8b7b246df8f9039afb4144a1f6fd8d2ca17a180786b69acc140d282b71a49"
   }
  }
 },
 "nbformat": 4,
 "nbformat_minor": 4
}
